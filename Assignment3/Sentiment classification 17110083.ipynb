{
 "cells": [
  {
   "cell_type": "code",
   "execution_count": 125,
   "metadata": {
    "colab": {
     "base_uri": "https://localhost:8080/",
     "height": 567
    },
    "colab_type": "code",
    "collapsed": true,
    "id": "SPuMeXB7encp",
    "outputId": "baa1e7c6-ffee-4460-d1af-556dedf691f7"
   },
   "outputs": [
    {
     "name": "stdout",
     "output_type": "stream",
     "text": [
      "[name: \"/device:CPU:0\"\n",
      "device_type: \"CPU\"\n",
      "memory_limit: 268435456\n",
      "locality {\n",
      "}\n",
      "incarnation: 964926347732827968\n",
      ", name: \"/device:XLA_CPU:0\"\n",
      "device_type: \"XLA_CPU\"\n",
      "memory_limit: 17179869184\n",
      "locality {\n",
      "}\n",
      "incarnation: 3225408314893130053\n",
      "physical_device_desc: \"device: XLA_CPU device\"\n",
      ", name: \"/device:XLA_GPU:0\"\n",
      "device_type: \"XLA_GPU\"\n",
      "memory_limit: 17179869184\n",
      "locality {\n",
      "}\n",
      "incarnation: 13804827996640473845\n",
      "physical_device_desc: \"device: XLA_GPU device\"\n",
      ", name: \"/device:GPU:0\"\n",
      "device_type: \"GPU\"\n",
      "memory_limit: 15956161332\n",
      "locality {\n",
      "  bus_id: 1\n",
      "  links {\n",
      "  }\n",
      "}\n",
      "incarnation: 12067914164712434704\n",
      "physical_device_desc: \"device: 0, name: Tesla P100-PCIE-16GB, pci bus id: 0000:00:04.0, compute capability: 6.0\"\n",
      "]\n"
     ]
    }
   ],
   "source": [
    "from tensorflow.python.client import device_lib\n",
    "print(device_lib.list_local_devices())"
   ]
  },
  {
   "cell_type": "code",
   "execution_count": 0,
   "metadata": {
    "colab": {},
    "colab_type": "code",
    "id": "trlJg642JTfL"
   },
   "outputs": [],
   "source": [
    "import pandas as pd"
   ]
  },
  {
   "cell_type": "code",
   "execution_count": 0,
   "metadata": {
    "colab": {},
    "colab_type": "code",
    "id": "jK1Ta2KFJJxg"
   },
   "outputs": [],
   "source": [
    "#loading the training data\n",
    "train_df=pd.read_csv('/content/train.csv',encoding='utf-8')"
   ]
  },
  {
   "cell_type": "code",
   "execution_count": 0,
   "metadata": {
    "code_folding": [],
    "colab": {},
    "colab_type": "code",
    "id": "-3Cj4aXpJfLF"
   },
   "outputs": [],
   "source": [
    "#making 2 lists of tweets and correspong sentiments\n",
    "tweets=list(train_df['Tweet'])\n",
    "sentiments=list(train_df['Sentiment'])\n",
    "sentiments"
   ]
  },
  {
   "cell_type": "code",
   "execution_count": 0,
   "metadata": {
    "colab": {
     "base_uri": "https://localhost:8080/",
     "height": 34
    },
    "colab_type": "code",
    "id": "o5DbQUdSOM5X",
    "outputId": "7dadc308-0703-4b16-f354-bcc4c393eaa1"
   },
   "outputs": [
    {
     "data": {
      "text/plain": [
       "{'negative': 4456, 'neutral': 5631, 'positive': 5030}"
      ]
     },
     "execution_count": 5,
     "metadata": {
      "tags": []
     },
     "output_type": "execute_result"
    }
   ],
   "source": [
    "from nltk import FreqDist\n",
    "fd=dict(FreqDist(sentiments))\n",
    "fd"
   ]
  },
  {
   "cell_type": "code",
   "execution_count": 0,
   "metadata": {
    "colab": {},
    "colab_type": "code",
    "id": "S9Z5QbMGS3aF"
   },
   "outputs": [],
   "source": [
    "from sklearn.preprocessing import LabelEncoder"
   ]
  },
  {
   "cell_type": "code",
   "execution_count": 0,
   "metadata": {
    "colab": {},
    "colab_type": "code",
    "id": "Lbtk69NQxtlR"
   },
   "outputs": [],
   "source": [
    "senti=sentiments.copy()"
   ]
  },
  {
   "cell_type": "code",
   "execution_count": 0,
   "metadata": {
    "colab": {
     "base_uri": "https://localhost:8080/",
     "height": 34
    },
    "colab_type": "code",
    "id": "A2194wpLS4es",
    "outputId": "131328e6-fce9-4294-d954-10fd68944eaa"
   },
   "outputs": [
    {
     "data": {
      "text/plain": [
       "array([0, 2, 2, ..., 0, 0, 0])"
      ]
     },
     "execution_count": 8,
     "metadata": {
      "tags": []
     },
     "output_type": "execute_result"
    }
   ],
   "source": [
    "#converting the string labels to integer representations\n",
    "enc=LabelEncoder()\n",
    "enc.fit(sentiments)\n",
    "sentiments_new=enc.transform(sentiments)\n",
    "sentiments_new"
   ]
  },
  {
   "cell_type": "code",
   "execution_count": 0,
   "metadata": {
    "colab": {},
    "colab_type": "code",
    "id": "A_LFXOPgTNk_"
   },
   "outputs": [],
   "source": [
    "tweets"
   ]
  },
  {
   "cell_type": "code",
   "execution_count": 0,
   "metadata": {
    "colab": {
     "base_uri": "https://localhost:8080/",
     "height": 34
    },
    "colab_type": "code",
    "id": "yZaoPXxRDwUN",
    "outputId": "47279d61-9c73-4bea-df8d-6d64d88bc2bc"
   },
   "outputs": [
    {
     "name": "stderr",
     "output_type": "stream",
     "text": [
      "Using TensorFlow backend.\n"
     ]
    }
   ],
   "source": [
    "import keras"
   ]
  },
  {
   "cell_type": "code",
   "execution_count": 0,
   "metadata": {
    "colab": {},
    "colab_type": "code",
    "id": "6hSjiBRiFpjE"
   },
   "outputs": [],
   "source": [
    "tokenizer=keras.preprocessing.text.Tokenizer(filters='',lower=False)"
   ]
  },
  {
   "cell_type": "code",
   "execution_count": 0,
   "metadata": {
    "colab": {},
    "colab_type": "code",
    "id": "1x20xK_jFwmE"
   },
   "outputs": [],
   "source": [
    "# Creates a word to index mapping of every word\n",
    "tokenizer.fit_on_texts(tweets)"
   ]
  },
  {
   "cell_type": "code",
   "execution_count": 0,
   "metadata": {
    "colab": {},
    "colab_type": "code",
    "id": "ggEIbjSOLF3j"
   },
   "outputs": [],
   "source": [
    "#converts the tweets to sequences of integer representations\n",
    "tweets = tokenizer.texts_to_sequences(tweets )"
   ]
  },
  {
   "cell_type": "code",
   "execution_count": 0,
   "metadata": {
    "colab": {},
    "colab_type": "code",
    "id": "6RxdCjsYXGrl"
   },
   "outputs": [],
   "source": [
    "# padding all tweets to length of 60\n",
    "from keras.preprocessing.sequence import pad_sequences\n",
    "tweets=pad_sequences(tweets,maxlen=60,padding='post')"
   ]
  },
  {
   "cell_type": "code",
   "execution_count": 0,
   "metadata": {
    "colab": {},
    "colab_type": "code",
    "id": "cvV8ODUEXRLu"
   },
   "outputs": [],
   "source": [
    "tweets"
   ]
  },
  {
   "cell_type": "code",
   "execution_count": 0,
   "metadata": {
    "colab": {
     "base_uri": "https://localhost:8080/",
     "height": 34
    },
    "colab_type": "code",
    "id": "VvX1a6-xFyuE",
    "outputId": "c17186ca-1c8c-4be2-ebc1-521816c49de5"
   },
   "outputs": [
    {
     "data": {
      "text/plain": [
       "53817"
      ]
     },
     "execution_count": 15,
     "metadata": {
      "tags": []
     },
     "output_type": "execute_result"
    }
   ],
   "source": [
    "vocab_size = len(tokenizer.word_index) + 1\n",
    "vocab_size"
   ]
  },
  {
   "cell_type": "code",
   "execution_count": 0,
   "metadata": {
    "colab": {
     "base_uri": "https://localhost:8080/",
     "height": 34
    },
    "colab_type": "code",
    "id": "A9XD8zFwsRas",
    "outputId": "b9cc1f2b-35ab-4589-86f8-13e46910be5f"
   },
   "outputs": [
    {
     "data": {
      "text/plain": [
       "15117"
      ]
     },
     "execution_count": 16,
     "metadata": {
      "tags": []
     },
     "output_type": "execute_result"
    }
   ],
   "source": [
    "len(tweets)"
   ]
  },
  {
   "cell_type": "code",
   "execution_count": 0,
   "metadata": {
    "colab": {},
    "colab_type": "code",
    "id": "5n0A1PxTHFt1"
   },
   "outputs": [],
   "source": [
    "from numpy import array\n",
    "from keras.utils import to_categorical\n",
    "tweets = array(tweets)\n",
    "    "
   ]
  },
  {
   "cell_type": "code",
   "execution_count": 0,
   "metadata": {
    "colab": {
     "base_uri": "https://localhost:8080/",
     "height": 34
    },
    "colab_type": "code",
    "id": "W21BoLJhTUsS",
    "outputId": "7b9451c9-f47a-493c-8de4-fea080ce4e56"
   },
   "outputs": [
    {
     "data": {
      "text/plain": [
       "(15117, 60)"
      ]
     },
     "execution_count": 18,
     "metadata": {
      "tags": []
     },
     "output_type": "execute_result"
    }
   ],
   "source": [
    "tweets.shape"
   ]
  },
  {
   "cell_type": "code",
   "execution_count": 0,
   "metadata": {
    "colab": {},
    "colab_type": "code",
    "id": "hSaia5KxU1gx"
   },
   "outputs": [],
   "source": [
    "X=tweets\n",
    "y=sentiments_new"
   ]
  },
  {
   "cell_type": "code",
   "execution_count": 0,
   "metadata": {
    "colab": {},
    "colab_type": "code",
    "id": "anGISikmI1Bx"
   },
   "outputs": [],
   "source": [
    "#assigning weights to classes\n",
    "from sklearn.utils import compute_class_weight\n",
    "import numpy as np\n",
    "classWeight = compute_class_weight('balanced', np.unique(y), y) \n",
    "classWeight = dict(enumerate(classWeight))"
   ]
  },
  {
   "cell_type": "code",
   "execution_count": 0,
   "metadata": {
    "colab": {},
    "colab_type": "code",
    "id": "HPSugVNz1BTW"
   },
   "outputs": [],
   "source": [
    "y"
   ]
  },
  {
   "cell_type": "code",
   "execution_count": 0,
   "metadata": {
    "colab": {},
    "colab_type": "code",
    "id": "3_ZAiZdiyVLP"
   },
   "outputs": [],
   "source": [
    "seq_length = X.shape[1] "
   ]
  },
  {
   "cell_type": "code",
   "execution_count": 126,
   "metadata": {
    "colab": {
     "base_uri": "https://localhost:8080/",
     "height": 318
    },
    "colab_type": "code",
    "id": "ECLlH5zeHJTh",
    "outputId": "e97b69f9-30cd-4d26-bc82-5c8327c94079"
   },
   "outputs": [
    {
     "name": "stdout",
     "output_type": "stream",
     "text": [
      "Model: \"sequential_18\"\n",
      "_________________________________________________________________\n",
      "Layer (type)                 Output Shape              Param #   \n",
      "=================================================================\n",
      "embedding_20 (Embedding)     (None, 60, 50)            2690850   \n",
      "_________________________________________________________________\n",
      "cu_dnngru_11 (CuDNNGRU)      (None, 60)                20160     \n",
      "_________________________________________________________________\n",
      "batch_normalization_13 (Batc (None, 60)                240       \n",
      "_________________________________________________________________\n",
      "dense_22 (Dense)             (None, 3)                 183       \n",
      "=================================================================\n",
      "Total params: 2,711,433\n",
      "Trainable params: 2,711,313\n",
      "Non-trainable params: 120\n",
      "_________________________________________________________________\n",
      "None\n"
     ]
    }
   ],
   "source": [
    "from keras.models import Sequential, Model\n",
    "from keras.layers import Dense, BatchNormalization,Embedding\n",
    "from keras.layers import LSTM, Input, Bidirectional,CuDNNLSTM,CuDNNGRU\n",
    "# model architecture\n",
    "model = Sequential()\n",
    "model.add(Embedding(vocab_size, 50,input_length=seq_length,trainable=True)) \n",
    "model.add((CuDNNGRU(60)))\n",
    "model.add(BatchNormalization())\n",
    "model.add(Dense(3, activation='softmax'))\n",
    "print(model.summary())"
   ]
  },
  {
   "cell_type": "code",
   "execution_count": 127,
   "metadata": {
    "colab": {
     "base_uri": "https://localhost:8080/",
     "height": 745
    },
    "colab_type": "code",
    "id": "GNdBHXhyHY6L",
    "outputId": "f5d5296c-4a6f-4690-b45c-466e633188c0"
   },
   "outputs": [
    {
     "name": "stdout",
     "output_type": "stream",
     "text": [
      "Train on 14965 samples, validate on 152 samples\n",
      "Epoch 1/20\n",
      "14965/14965 [==============================] - 14s 954us/step - loss: 1.0971 - acc: 0.3447 - val_loss: 1.1961 - val_acc: 1.0000\n",
      "Epoch 2/20\n",
      "14965/14965 [==============================] - 11s 736us/step - loss: 1.0971 - acc: 0.3496 - val_loss: 1.2798 - val_acc: 0.0000e+00\n",
      "Epoch 3/20\n",
      "14965/14965 [==============================] - 11s 748us/step - loss: 1.0971 - acc: 0.3641 - val_loss: 1.3695 - val_acc: 0.0000e+00\n",
      "Epoch 4/20\n",
      "14965/14965 [==============================] - 11s 746us/step - loss: 0.9850 - acc: 0.4665 - val_loss: 1.5992 - val_acc: 0.3684\n",
      "Epoch 5/20\n",
      "14965/14965 [==============================] - 11s 730us/step - loss: 0.7891 - acc: 0.6154 - val_loss: 0.3892 - val_acc: 0.9079\n",
      "Epoch 6/20\n",
      "14965/14965 [==============================] - 11s 736us/step - loss: 0.6435 - acc: 0.7046 - val_loss: 2.1294 - val_acc: 0.2566\n",
      "Epoch 7/20\n",
      "14965/14965 [==============================] - 11s 724us/step - loss: 0.5290 - acc: 0.7705 - val_loss: 0.9116 - val_acc: 0.6316\n",
      "Epoch 8/20\n",
      "14965/14965 [==============================] - 11s 729us/step - loss: 0.4301 - acc: 0.8301 - val_loss: 2.3999 - val_acc: 0.3158\n",
      "Epoch 9/20\n",
      "14965/14965 [==============================] - 11s 760us/step - loss: 0.3351 - acc: 0.8797 - val_loss: 0.9357 - val_acc: 0.7368\n",
      "Epoch 10/20\n",
      "14965/14965 [==============================] - 11s 742us/step - loss: 0.2313 - acc: 0.9226 - val_loss: 3.7414 - val_acc: 0.3553\n",
      "Epoch 11/20\n",
      "14965/14965 [==============================] - 11s 735us/step - loss: 0.1857 - acc: 0.9412 - val_loss: 1.6150 - val_acc: 0.6908\n",
      "Epoch 12/20\n",
      "14965/14965 [==============================] - 11s 729us/step - loss: 0.1561 - acc: 0.9522 - val_loss: 3.2994 - val_acc: 0.3947\n",
      "Epoch 13/20\n",
      "14965/14965 [==============================] - 11s 728us/step - loss: 0.1441 - acc: 0.9573 - val_loss: 2.9502 - val_acc: 0.4342\n",
      "Epoch 14/20\n",
      "14965/14965 [==============================] - 11s 737us/step - loss: 0.1306 - acc: 0.9600 - val_loss: 3.0018 - val_acc: 0.4605\n",
      "Epoch 15/20\n",
      "14965/14965 [==============================] - 11s 739us/step - loss: 0.1271 - acc: 0.9646 - val_loss: 3.0376 - val_acc: 0.4737\n",
      "Epoch 16/20\n",
      "14965/14965 [==============================] - 11s 731us/step - loss: 0.1182 - acc: 0.9679 - val_loss: 3.7324 - val_acc: 0.4079\n",
      "Epoch 17/20\n",
      "14965/14965 [==============================] - 11s 729us/step - loss: 0.1150 - acc: 0.9713 - val_loss: 2.5554 - val_acc: 0.5132\n",
      "Epoch 18/20\n",
      "14965/14965 [==============================] - 11s 736us/step - loss: 0.1072 - acc: 0.9703 - val_loss: 4.1821 - val_acc: 0.3421\n",
      "Epoch 19/20\n",
      "14965/14965 [==============================] - 11s 736us/step - loss: 0.0999 - acc: 0.9740 - val_loss: 3.7825 - val_acc: 0.3816\n",
      "Epoch 20/20\n",
      "14965/14965 [==============================] - 11s 734us/step - loss: 0.1049 - acc: 0.9721 - val_loss: 3.6833 - val_acc: 0.4079\n"
     ]
    }
   ],
   "source": [
    "from keras import optimizers\n",
    "# compile model with adam optimizer, sparse categorical cross entropy\n",
    "model.compile(loss='sparse_categorical_crossentropy', optimizer=keras.optimizers.Adam(lr=0.0001), metrics=['accuracy']) #categorical crossentropy as there are multiple classes of words to predict\n",
    "model_history=model.fit(X, y, batch_size=10, epochs=20,validation_split=0.01,class_weight=classWeight)"
   ]
  },
  {
   "cell_type": "code",
   "execution_count": 0,
   "metadata": {
    "colab": {},
    "colab_type": "code",
    "id": "J1il8c0JnVoy"
   },
   "outputs": [],
   "source": [
    "#load test data\n",
    "test=pd.read_csv('/content/test.csv',encoding='utf-8')\n",
    "test.Tweet=test.Tweet.astype(str)"
   ]
  },
  {
   "cell_type": "code",
   "execution_count": 0,
   "metadata": {
    "colab": {},
    "colab_type": "code",
    "id": "ftFVF5w8ibsL"
   },
   "outputs": [],
   "source": [
    "#lists of test tweets and labels\n",
    "test_tweets=list(test['Tweet'])\n",
    "test_y=list(test['Sentiment'])\n",
    "test_tweets"
   ]
  },
  {
   "cell_type": "code",
   "execution_count": 0,
   "metadata": {
    "colab": {},
    "colab_type": "code",
    "id": "159xeN4H5Tvb"
   },
   "outputs": [],
   "source": [
    "#convert labels to integers\n",
    "test_new=enc.transform(test_y)"
   ]
  },
  {
   "cell_type": "code",
   "execution_count": 0,
   "metadata": {
    "colab": {},
    "colab_type": "code",
    "id": "cTcLMqj2Lw7s"
   },
   "outputs": [],
   "source": [
    "test_tweets"
   ]
  },
  {
   "cell_type": "code",
   "execution_count": 0,
   "metadata": {
    "colab": {},
    "colab_type": "code",
    "id": "x59vurSBLhm3"
   },
   "outputs": [],
   "source": [
    "#convert tweets to sequences of integers\n",
    "test_tweets= tokenizer.texts_to_sequences(test_tweets )"
   ]
  },
  {
   "cell_type": "code",
   "execution_count": 0,
   "metadata": {
    "colab": {},
    "colab_type": "code",
    "id": "cbehWLnZMo2X"
   },
   "outputs": [],
   "source": [
    "#pad tweets to length 60\n",
    "X_test=pad_sequences(test_tweets,maxlen=60,padding='post')"
   ]
  },
  {
   "cell_type": "code",
   "execution_count": 0,
   "metadata": {
    "colab": {
     "base_uri": "https://localhost:8080/",
     "height": 34
    },
    "colab_type": "code",
    "id": "FPKHdB84MwZI",
    "outputId": "51300b69-e513-471b-a90f-c259c0110533"
   },
   "outputs": [
    {
     "data": {
      "text/plain": [
       "array([0, 1, 2])"
      ]
     },
     "execution_count": 66,
     "metadata": {
      "tags": []
     },
     "output_type": "execute_result"
    }
   ],
   "source": [
    "y_test=test_new\n",
    "np.unique(y_test)"
   ]
  },
  {
   "cell_type": "code",
   "execution_count": 128,
   "metadata": {
    "colab": {
     "base_uri": "https://localhost:8080/",
     "height": 52
    },
    "colab_type": "code",
    "id": "gXqYR07MM8wW",
    "outputId": "f1a7d44f-d176-49ec-db6b-c60fe8a0c4e3"
   },
   "outputs": [
    {
     "name": "stdout",
     "output_type": "stream",
     "text": [
      "1869/1869 [==============================] - 1s 285us/step\n"
     ]
    },
    {
     "data": {
      "text/plain": [
       "[2.3831745809519145, 0.5098983476894179]"
      ]
     },
     "execution_count": 128,
     "metadata": {
      "tags": []
     },
     "output_type": "execute_result"
    }
   ],
   "source": [
    "#test the model\n",
    "model.evaluate(X_test,y_test,batch_size=10)"
   ]
  },
  {
   "cell_type": "code",
   "execution_count": 0,
   "metadata": {
    "colab": {},
    "colab_type": "code",
    "id": "rcyuk4WDitlt"
   },
   "outputs": [],
   "source": [
    "#getting predictions to get recall, etc\n",
    "y_pred=model.predict_classes(X_test)"
   ]
  },
  {
   "cell_type": "code",
   "execution_count": 0,
   "metadata": {
    "colab": {
     "base_uri": "https://localhost:8080/",
     "height": 34
    },
    "colab_type": "code",
    "id": "rjN9k2mvLYK0",
    "outputId": "84266685-2b73-46fe-ea20-fec9d0e56aca"
   },
   "outputs": [
    {
     "data": {
      "text/plain": [
       "array([2, 2, 0, ..., 0, 0, 0])"
      ]
     },
     "execution_count": 69,
     "metadata": {
      "tags": []
     },
     "output_type": "execute_result"
    }
   ],
   "source": [
    "y_pred"
   ]
  },
  {
   "cell_type": "code",
   "execution_count": 0,
   "metadata": {
    "colab": {
     "base_uri": "https://localhost:8080/",
     "height": 34
    },
    "colab_type": "code",
    "id": "6cEd9qoySduY",
    "outputId": "bf0def84-5325-4f74-c865-9fe49e004792"
   },
   "outputs": [
    {
     "data": {
      "text/plain": [
       "array(['negative', 'neutral', 'positive'], dtype='<U8')"
      ]
     },
     "execution_count": 75,
     "metadata": {
      "tags": []
     },
     "output_type": "execute_result"
    }
   ],
   "source": [
    "enc.inverse_transform([0,1,2])"
   ]
  },
  {
   "cell_type": "code",
   "execution_count": 131,
   "metadata": {
    "colab": {
     "base_uri": "https://localhost:8080/",
     "height": 194
    },
    "colab_type": "code",
    "id": "ex5OdVWDRY2o",
    "outputId": "a58f4de4-aa54-4fce-8b80-63382e52d9d1"
   },
   "outputs": [
    {
     "name": "stdout",
     "output_type": "stream",
     "text": [
      "              precision    recall  f1-score   support\n",
      "\n",
      "           0       0.56      0.46      0.50       533\n",
      "           1       0.46      0.57      0.51       754\n",
      "           2       0.55      0.48      0.51       582\n",
      "\n",
      "    accuracy                           0.51      1869\n",
      "   macro avg       0.52      0.50      0.51      1869\n",
      "weighted avg       0.52      0.51      0.51      1869\n",
      "\n"
     ]
    }
   ],
   "source": [
    "#getting F1 Score, Recall, precision\n",
    "from sklearn.metrics import classification_report\n",
    "print(classification_report(y_test, y_pred))"
   ]
  }
 ],
 "metadata": {
  "accelerator": "GPU",
  "colab": {
   "machine_shape": "hm",
   "name": "LSTMs.ipynb",
   "provenance": []
  },
  "kernelspec": {
   "display_name": "Python 3",
   "language": "python",
   "name": "python3"
  },
  "language_info": {
   "codemirror_mode": {
    "name": "ipython",
    "version": 3
   },
   "file_extension": ".py",
   "mimetype": "text/x-python",
   "name": "python",
   "nbconvert_exporter": "python",
   "pygments_lexer": "ipython3",
   "version": "3.7.3"
  }
 },
 "nbformat": 4,
 "nbformat_minor": 1
}
