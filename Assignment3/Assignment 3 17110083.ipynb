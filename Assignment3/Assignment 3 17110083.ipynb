{
 "cells": [
  {
   "cell_type": "code",
   "execution_count": 125,
   "metadata": {
    "colab": {
     "base_uri": "https://localhost:8080/",
     "height": 567
    },
    "colab_type": "code",
    "collapsed": true,
    "id": "SPuMeXB7encp",
    "outputId": "baa1e7c6-ffee-4460-d1af-556dedf691f7"
   },
   "outputs": [
    {
     "name": "stdout",
     "output_type": "stream",
     "text": [
      "[name: \"/device:CPU:0\"\n",
      "device_type: \"CPU\"\n",
      "memory_limit: 268435456\n",
      "locality {\n",
      "}\n",
      "incarnation: 964926347732827968\n",
      ", name: \"/device:XLA_CPU:0\"\n",
      "device_type: \"XLA_CPU\"\n",
      "memory_limit: 17179869184\n",
      "locality {\n",
      "}\n",
      "incarnation: 3225408314893130053\n",
      "physical_device_desc: \"device: XLA_CPU device\"\n",
      ", name: \"/device:XLA_GPU:0\"\n",
      "device_type: \"XLA_GPU\"\n",
      "memory_limit: 17179869184\n",
      "locality {\n",
      "}\n",
      "incarnation: 13804827996640473845\n",
      "physical_device_desc: \"device: XLA_GPU device\"\n",
      ", name: \"/device:GPU:0\"\n",
      "device_type: \"GPU\"\n",
      "memory_limit: 15956161332\n",
      "locality {\n",
      "  bus_id: 1\n",
      "  links {\n",
      "  }\n",
      "}\n",
      "incarnation: 12067914164712434704\n",
      "physical_device_desc: \"device: 0, name: Tesla P100-PCIE-16GB, pci bus id: 0000:00:04.0, compute capability: 6.0\"\n",
      "]\n"
     ]
    }
   ],
   "source": [
    "from tensorflow.python.client import device_lib\n",
    "print(device_lib.list_local_devices())"
   ]
  },
  {
   "cell_type": "code",
   "execution_count": 0,
   "metadata": {
    "colab": {},
    "colab_type": "code",
    "id": "trlJg642JTfL"
   },
   "outputs": [],
   "source": [
    "import pandas as pd"
   ]
  },
  {
   "cell_type": "code",
   "execution_count": 0,
   "metadata": {
    "colab": {},
    "colab_type": "code",
    "id": "jK1Ta2KFJJxg"
   },
   "outputs": [],
   "source": [
    "#loading the training data\n",
    "train_df=pd.read_csv('/content/train.csv',encoding='utf-8')"
   ]
  },
  {
   "cell_type": "code",
   "execution_count": 0,
   "metadata": {
    "code_folding": [],
    "colab": {},
    "colab_type": "code",
    "id": "-3Cj4aXpJfLF"
   },
   "outputs": [],
   "source": [
    "#making 2 lists of tweets and correspong sentiments\n",
    "tweets=list(train_df['Tweet'])\n",
    "sentiments=list(train_df['Sentiment'])\n",
    "sentiments"
   ]
  },
  {
   "cell_type": "code",
   "execution_count": 0,
   "metadata": {
    "colab": {
     "base_uri": "https://localhost:8080/",
     "height": 34
    },
    "colab_type": "code",
    "id": "o5DbQUdSOM5X",
    "outputId": "7dadc308-0703-4b16-f354-bcc4c393eaa1"
   },
   "outputs": [
    {
     "data": {
      "text/plain": [
       "{'negative': 4456, 'neutral': 5631, 'positive': 5030}"
      ]
     },
     "execution_count": 5,
     "metadata": {
      "tags": []
     },
     "output_type": "execute_result"
    }
   ],
   "source": [
    "from nltk import FreqDist\n",
    "fd=dict(FreqDist(sentiments))\n",
    "fd"
   ]
  },
  {
   "cell_type": "code",
   "execution_count": 0,
   "metadata": {
    "colab": {},
    "colab_type": "code",
    "id": "S9Z5QbMGS3aF"
   },
   "outputs": [],
   "source": [
    "from sklearn.preprocessing import LabelEncoder"
   ]
  },
  {
   "cell_type": "code",
   "execution_count": 0,
   "metadata": {
    "colab": {},
    "colab_type": "code",
    "id": "Lbtk69NQxtlR"
   },
   "outputs": [],
   "source": [
    "senti=sentiments.copy()"
   ]
  },
  {
   "cell_type": "code",
   "execution_count": 0,
   "metadata": {
    "colab": {
     "base_uri": "https://localhost:8080/",
     "height": 34
    },
    "colab_type": "code",
    "id": "A2194wpLS4es",
    "outputId": "131328e6-fce9-4294-d954-10fd68944eaa"
   },
   "outputs": [
    {
     "data": {
      "text/plain": [
       "array([0, 2, 2, ..., 0, 0, 0])"
      ]
     },
     "execution_count": 8,
     "metadata": {
      "tags": []
     },
     "output_type": "execute_result"
    }
   ],
   "source": [
    "#converting the string labels to integer representations\n",
    "enc=LabelEncoder()\n",
    "enc.fit(sentiments)\n",
    "sentiments_new=enc.transform(sentiments)\n",
    "sentiments_new"
   ]
  },
  {
   "cell_type": "code",
   "execution_count": 0,
   "metadata": {
    "colab": {},
    "colab_type": "code",
    "id": "A_LFXOPgTNk_"
   },
   "outputs": [],
   "source": [
    "tweets"
   ]
  },
  {
   "cell_type": "code",
   "execution_count": 0,
   "metadata": {
    "colab": {
     "base_uri": "https://localhost:8080/",
     "height": 34
    },
    "colab_type": "code",
    "id": "yZaoPXxRDwUN",
    "outputId": "47279d61-9c73-4bea-df8d-6d64d88bc2bc"
   },
   "outputs": [
    {
     "name": "stderr",
     "output_type": "stream",
     "text": [
      "Using TensorFlow backend.\n"
     ]
    }
   ],
   "source": [
    "import keras"
   ]
  },
  {
   "cell_type": "code",
   "execution_count": 0,
   "metadata": {
    "colab": {},
    "colab_type": "code",
    "id": "6hSjiBRiFpjE"
   },
   "outputs": [],
   "source": [
    "tokenizer=keras.preprocessing.text.Tokenizer(filters='',lower=False)"
   ]
  },
  {
   "cell_type": "code",
   "execution_count": 0,
   "metadata": {
    "colab": {},
    "colab_type": "code",
    "id": "1x20xK_jFwmE"
   },
   "outputs": [],
   "source": [
    "# Creates a word to index mapping of every word\n",
    "tokenizer.fit_on_texts(tweets)"
   ]
  },
  {
   "cell_type": "code",
   "execution_count": 0,
   "metadata": {
    "colab": {},
    "colab_type": "code",
    "id": "ggEIbjSOLF3j"
   },
   "outputs": [],
   "source": [
    "#converts the tweets to sequences of integer representations\n",
    "tweets = tokenizer.texts_to_sequences(tweets )"
   ]
  },
  {
   "cell_type": "code",
   "execution_count": 0,
   "metadata": {
    "colab": {},
    "colab_type": "code",
    "id": "6RxdCjsYXGrl"
   },
   "outputs": [],
   "source": [
    "# padding all tweets to length of 60\n",
    "from keras.preprocessing.sequence import pad_sequences\n",
    "tweets=pad_sequences(tweets,maxlen=60,padding='post')"
   ]
  },
  {
   "cell_type": "code",
   "execution_count": 0,
   "metadata": {
    "colab": {},
    "colab_type": "code",
    "id": "cvV8ODUEXRLu"
   },
   "outputs": [],
   "source": [
    "tweets"
   ]
  },
  {
   "cell_type": "code",
   "execution_count": 0,
   "metadata": {
    "colab": {
     "base_uri": "https://localhost:8080/",
     "height": 34
    },
    "colab_type": "code",
    "id": "VvX1a6-xFyuE",
    "outputId": "c17186ca-1c8c-4be2-ebc1-521816c49de5"
   },
   "outputs": [
    {
     "data": {
      "text/plain": [
       "53817"
      ]
     },
     "execution_count": 15,
     "metadata": {
      "tags": []
     },
     "output_type": "execute_result"
    }
   ],
   "source": [
    "vocab_size = len(tokenizer.word_index) + 1\n",
    "vocab_size"
   ]
  },
  {
   "cell_type": "code",
   "execution_count": 0,
   "metadata": {
    "colab": {
     "base_uri": "https://localhost:8080/",
     "height": 34
    },
    "colab_type": "code",
    "id": "A9XD8zFwsRas",
    "outputId": "b9cc1f2b-35ab-4589-86f8-13e46910be5f"
   },
   "outputs": [
    {
     "data": {
      "text/plain": [
       "15117"
      ]
     },
     "execution_count": 16,
     "metadata": {
      "tags": []
     },
     "output_type": "execute_result"
    }
   ],
   "source": [
    "len(tweets)"
   ]
  },
  {
   "cell_type": "code",
   "execution_count": 0,
   "metadata": {
    "colab": {},
    "colab_type": "code",
    "id": "5n0A1PxTHFt1"
   },
   "outputs": [],
   "source": [
    "from numpy import array\n",
    "from keras.utils import to_categorical\n",
    "tweets = array(tweets)\n",
    "    "
   ]
  },
  {
   "cell_type": "code",
   "execution_count": 0,
   "metadata": {
    "colab": {
     "base_uri": "https://localhost:8080/",
     "height": 34
    },
    "colab_type": "code",
    "id": "W21BoLJhTUsS",
    "outputId": "7b9451c9-f47a-493c-8de4-fea080ce4e56"
   },
   "outputs": [
    {
     "data": {
      "text/plain": [
       "(15117, 60)"
      ]
     },
     "execution_count": 18,
     "metadata": {
      "tags": []
     },
     "output_type": "execute_result"
    }
   ],
   "source": [
    "tweets.shape"
   ]
  },
  {
   "cell_type": "code",
   "execution_count": 0,
   "metadata": {
    "colab": {},
    "colab_type": "code",
    "id": "hSaia5KxU1gx"
   },
   "outputs": [],
   "source": [
    "X=tweets\n",
    "y=sentiments_new"
   ]
  },
  {
   "cell_type": "code",
   "execution_count": 0,
   "metadata": {
    "colab": {},
    "colab_type": "code",
    "id": "anGISikmI1Bx"
   },
   "outputs": [],
   "source": [
    "#assigning weights to classes\n",
    "from sklearn.utils import compute_class_weight\n",
    "import numpy as np\n",
    "classWeight = compute_class_weight('balanced', np.unique(y), y) \n",
    "classWeight = dict(enumerate(classWeight))"
   ]
  },
  {
   "cell_type": "code",
   "execution_count": 0,
   "metadata": {
    "colab": {},
    "colab_type": "code",
    "id": "HPSugVNz1BTW"
   },
   "outputs": [],
   "source": [
    "y"
   ]
  },
  {
   "cell_type": "code",
   "execution_count": 0,
   "metadata": {
    "colab": {},
    "colab_type": "code",
    "id": "3_ZAiZdiyVLP"
   },
   "outputs": [],
   "source": [
    "seq_length = X.shape[1] "
   ]
  },
  {
   "cell_type": "code",
   "execution_count": 137,
   "metadata": {
    "colab": {
     "base_uri": "https://localhost:8080/",
     "height": 318
    },
    "colab_type": "code",
    "id": "ECLlH5zeHJTh",
    "outputId": "4d922f89-efed-4da0-b3b1-095ef2495ed8"
   },
   "outputs": [
    {
     "name": "stdout",
     "output_type": "stream",
     "text": [
      "Model: \"sequential_21\"\n",
      "_________________________________________________________________\n",
      "Layer (type)                 Output Shape              Param #   \n",
      "=================================================================\n",
      "embedding_23 (Embedding)     (None, 60, 50)            2690850   \n",
      "_________________________________________________________________\n",
      "cu_dnngru_14 (CuDNNGRU)      (None, 60)                20160     \n",
      "_________________________________________________________________\n",
      "batch_normalization_16 (Batc (None, 60)                240       \n",
      "_________________________________________________________________\n",
      "dense_25 (Dense)             (None, 3)                 183       \n",
      "=================================================================\n",
      "Total params: 2,711,433\n",
      "Trainable params: 2,711,313\n",
      "Non-trainable params: 120\n",
      "_________________________________________________________________\n",
      "None\n"
     ]
    }
   ],
   "source": [
    "from keras.models import Sequential, Model\n",
    "from keras.layers import Dense, BatchNormalization\n",
    "from keras.layers import LSTM, Bidirectional,CuDNNLSTM,CuDNNGRU,Embedding\n",
    "\n",
    "# define model\n",
    "model = Sequential()\n",
    "model.add(Embedding(vocab_size, 50,input_length=seq_length,trainable=True)) \n",
    "model.add((CuDNNGRU(60)))\n",
    "model.add(BatchNormalization())\n",
    "#model.add((CuDNNLSTM(100)))\n",
    "#model.add(Dense(100, activation='relu'))\n",
    "model.add(Dense(3, activation='softmax'))\n",
    "print(model.summary())"
   ]
  },
  {
   "cell_type": "code",
   "execution_count": null,
   "metadata": {
    "colab": {
     "base_uri": "https://localhost:8080/",
     "height": 727
    },
    "colab_type": "code",
    "id": "GNdBHXhyHY6L",
    "outputId": "377a8d5d-2331-4746-e785-1a0f99fabec2",
    "scrolled": true
   },
   "outputs": [],
   "source": [
    "from keras import optimizers\n",
    "sgd = optimizers.SGD(lr=0.00001)\n",
    "# compile model\n",
    "model.compile(loss='sparse_categorical_crossentropy', optimizer=keras.optimizers.Adam(lr=0.0001), metrics=['accuracy']) #categorical crossentropy as there are multiple classes of words to predict\n",
    "# fit model\n",
    "model_history=model.fit(X, y, batch_size=10, epochs=20,class_weight=classWeight)"
   ]
  },
  {
   "cell_type": "code",
   "execution_count": 0,
   "metadata": {
    "colab": {},
    "colab_type": "code",
    "id": "J1il8c0JnVoy"
   },
   "outputs": [],
   "source": [
    "#load test data\n",
    "test=pd.read_csv('/content/test.csv',encoding='utf-8')\n",
    "test.Tweet=test.Tweet.astype(str)"
   ]
  },
  {
   "cell_type": "code",
   "execution_count": 0,
   "metadata": {
    "colab": {},
    "colab_type": "code",
    "id": "ftFVF5w8ibsL"
   },
   "outputs": [],
   "source": [
    "#lists of test tweets and labels\n",
    "test_tweets=list(test['Tweet'])\n",
    "test_y=list(test['Sentiment'])\n",
    "test_tweets"
   ]
  },
  {
   "cell_type": "code",
   "execution_count": 0,
   "metadata": {
    "colab": {},
    "colab_type": "code",
    "id": "159xeN4H5Tvb"
   },
   "outputs": [],
   "source": [
    "#convert labels to integers\n",
    "test_new=enc.transform(test_y)"
   ]
  },
  {
   "cell_type": "code",
   "execution_count": 0,
   "metadata": {
    "colab": {},
    "colab_type": "code",
    "id": "cTcLMqj2Lw7s"
   },
   "outputs": [],
   "source": [
    "test_tweets"
   ]
  },
  {
   "cell_type": "code",
   "execution_count": 0,
   "metadata": {
    "colab": {},
    "colab_type": "code",
    "id": "x59vurSBLhm3"
   },
   "outputs": [],
   "source": [
    "#convert tweets to sequences of integers\n",
    "test_tweets= tokenizer.texts_to_sequences(test_tweets )"
   ]
  },
  {
   "cell_type": "code",
   "execution_count": 0,
   "metadata": {
    "colab": {},
    "colab_type": "code",
    "id": "cbehWLnZMo2X"
   },
   "outputs": [],
   "source": [
    "#pad tweets to length 60\n",
    "X_test=pad_sequences(test_tweets,maxlen=60,padding='post')"
   ]
  },
  {
   "cell_type": "code",
   "execution_count": 0,
   "metadata": {
    "colab": {
     "base_uri": "https://localhost:8080/",
     "height": 34
    },
    "colab_type": "code",
    "id": "FPKHdB84MwZI",
    "outputId": "51300b69-e513-471b-a90f-c259c0110533"
   },
   "outputs": [
    {
     "data": {
      "text/plain": [
       "array([0, 1, 2])"
      ]
     },
     "execution_count": 66,
     "metadata": {
      "tags": []
     },
     "output_type": "execute_result"
    }
   ],
   "source": [
    "y_test=test_new\n",
    "np.unique(y_test)"
   ]
  },
  {
   "cell_type": "code",
   "execution_count": 139,
   "metadata": {
    "colab": {
     "base_uri": "https://localhost:8080/",
     "height": 52
    },
    "colab_type": "code",
    "id": "gXqYR07MM8wW",
    "outputId": "31ff454a-d50d-4157-fde5-ec510e0b31cd"
   },
   "outputs": [
    {
     "name": "stdout",
     "output_type": "stream",
     "text": [
      "1869/1869 [==============================] - 2s 997us/step\n"
     ]
    },
    {
     "data": {
      "text/plain": [
       "[2.4791621082607374, 0.513108619813169]"
      ]
     },
     "execution_count": 139,
     "metadata": {
      "tags": []
     },
     "output_type": "execute_result"
    }
   ],
   "source": [
    "#test the model\n",
    "model.evaluate(X_test,y_test,batch_size=10)"
   ]
  },
  {
   "cell_type": "code",
   "execution_count": 0,
   "metadata": {
    "colab": {},
    "colab_type": "code",
    "id": "rcyuk4WDitlt"
   },
   "outputs": [],
   "source": [
    "#getting predictions to get recall, etc\n",
    "y_pred=model.predict_classes(X_test)"
   ]
  },
  {
   "cell_type": "code",
   "execution_count": 0,
   "metadata": {
    "colab": {
     "base_uri": "https://localhost:8080/",
     "height": 34
    },
    "colab_type": "code",
    "id": "rjN9k2mvLYK0",
    "outputId": "84266685-2b73-46fe-ea20-fec9d0e56aca"
   },
   "outputs": [
    {
     "data": {
      "text/plain": [
       "array([2, 2, 0, ..., 0, 0, 0])"
      ]
     },
     "execution_count": 69,
     "metadata": {
      "tags": []
     },
     "output_type": "execute_result"
    }
   ],
   "source": [
    "y_pred"
   ]
  },
  {
   "cell_type": "code",
   "execution_count": 0,
   "metadata": {
    "colab": {
     "base_uri": "https://localhost:8080/",
     "height": 34
    },
    "colab_type": "code",
    "id": "6cEd9qoySduY",
    "outputId": "bf0def84-5325-4f74-c865-9fe49e004792"
   },
   "outputs": [
    {
     "data": {
      "text/plain": [
       "array(['negative', 'neutral', 'positive'], dtype='<U8')"
      ]
     },
     "execution_count": 75,
     "metadata": {
      "tags": []
     },
     "output_type": "execute_result"
    }
   ],
   "source": [
    "enc.inverse_transform([0,1,2])"
   ]
  },
  {
   "cell_type": "code",
   "execution_count": 141,
   "metadata": {
    "colab": {
     "base_uri": "https://localhost:8080/",
     "height": 194
    },
    "colab_type": "code",
    "id": "ex5OdVWDRY2o",
    "outputId": "d341568b-7383-4fb8-8db2-5a58ef390178"
   },
   "outputs": [
    {
     "name": "stdout",
     "output_type": "stream",
     "text": [
      "              precision    recall  f1-score   support\n",
      "\n",
      "           0       0.53      0.53      0.53       533\n",
      "           1       0.47      0.52      0.50       754\n",
      "           2       0.56      0.49      0.52       582\n",
      "\n",
      "    accuracy                           0.51      1869\n",
      "   macro avg       0.52      0.51      0.52      1869\n",
      "weighted avg       0.52      0.51      0.51      1869\n",
      "\n"
     ]
    }
   ],
   "source": [
    "#getting F1 Score, Recall, precision\n",
    "from sklearn.metrics import classification_report\n",
    "print(classification_report(y_test, y_pred))"
   ]
  }
 ],
 "metadata": {
  "accelerator": "GPU",
  "colab": {
   "machine_shape": "hm",
   "name": "LSTMs.ipynb",
   "provenance": []
  },
  "kernelspec": {
   "display_name": "Python 3",
   "language": "python",
   "name": "python3"
  },
  "language_info": {
   "codemirror_mode": {
    "name": "ipython",
    "version": 3
   },
   "file_extension": ".py",
   "mimetype": "text/x-python",
   "name": "python",
   "nbconvert_exporter": "python",
   "pygments_lexer": "ipython3",
   "version": "3.7.3"
  }
 },
 "nbformat": 4,
 "nbformat_minor": 1
}
